{
 "cells": [
  {
   "cell_type": "markdown",
   "metadata": {
    "id": "XZVM1d4e_5HV"
   },
   "source": [
    "**Realizando a conexão com o MongoDB**"
   ]
  },
  {
   "cell_type": "code",
   "execution_count": 1,
   "metadata": {
    "id": "cqatd0B8_5HW"
   },
   "outputs": [
    {
     "name": "stdout",
     "output_type": "stream",
     "text": [
      "Pinged your deployment. You successfully connected to MongoDB!\n"
     ]
    }
   ],
   "source": [
    "import os\n",
    "from pymongo.mongo_client import MongoClient\n",
    "from pymongo.server_api import ServerApi\n",
    "from dotenv import load_dotenv\n",
    "\n",
    "\n",
    "load_dotenv()\n",
    "\n",
    "\n",
    "uri = os.getenv(\"MONGO_ATLAS_URL\")\n",
    "\n",
    "client = MongoClient(uri, server_api=ServerApi('1'))\n",
    "\n",
    "try:\n",
    "    client.admin.command('ping')\n",
    "    print(\"Pinged your deployment. You successfully connected to MongoDB!\")\n",
    "except Exception as e:\n",
    "    print(e)\n"
   ]
  },
  {
   "cell_type": "markdown",
   "metadata": {
    "id": "m2_8PUJA_5HX"
   },
   "source": [
    "## Lendo os dados no MongoDB"
   ]
  },
  {
   "cell_type": "code",
   "execution_count": 2,
   "metadata": {
    "id": "6DMs6kUm_5HY"
   },
   "outputs": [],
   "source": [
    "db = client[\"db_produtos\"]"
   ]
  },
  {
   "cell_type": "code",
   "execution_count": 3,
   "metadata": {
    "id": "QE5R61Di_5HY"
   },
   "outputs": [],
   "source": [
    "collection = db[\"produtos\"]"
   ]
  },
  {
   "cell_type": "code",
   "execution_count": 5,
   "metadata": {
    "id": "gLY48_BT_5HY"
   },
   "outputs": [
    {
     "data": {
      "text/plain": [
       "{'_id': ObjectId('678ec72da60f68a3f0d7705b'),\n",
       " 'Produto': 'Modelagem preditiva',\n",
       " 'Categoria do Produto': 'livros',\n",
       " 'Preço': 92.45,\n",
       " 'Frete': 5.6096965236,\n",
       " 'Data da Compra': '01/01/2020',\n",
       " 'Vendedor': 'Thiago Silva',\n",
       " 'Local da compra': 'BA',\n",
       " 'Avaliação da compra': 1,\n",
       " 'Tipo de pagamento': 'cartao_credito',\n",
       " 'Quantidade de parcelas': 3,\n",
       " 'lat': -13.29,\n",
       " 'lon': -41.71}"
      ]
     },
     "execution_count": 5,
     "metadata": {},
     "output_type": "execute_result"
    }
   ],
   "source": [
    "collection.find_one()"
   ]
  },
  {
   "cell_type": "markdown",
   "metadata": {
    "id": "sLcRUUh-_5HY"
   },
   "source": [
    "**Alterando os nomes dos campos de latitude e longitude**"
   ]
  },
  {
   "cell_type": "code",
   "execution_count": 6,
   "metadata": {
    "id": "RX-SQ4VR_5HY"
   },
   "outputs": [
    {
     "data": {
      "text/plain": [
       "UpdateResult({'n': 9435, 'electionId': ObjectId('7fffffff0000000000000015'), 'opTime': {'ts': Timestamp(1737470455, 5018), 't': 21}, 'nModified': 9435, 'ok': 1.0, '$clusterTime': {'clusterTime': Timestamp(1737470455, 5018), 'signature': {'hash': b'\\xd0\\xf4\\xc6B\\xdfm\\x1eK\\xab\\xf6I\\x9f^\\xa0\\xf8\\x14\\xaf\\x15\\xb0\\x0e', 'keyId': 7401159263046860802}}, 'operationTime': Timestamp(1737470455, 5018), 'updatedExisting': True}, acknowledged=True)"
      ]
     },
     "execution_count": 6,
     "metadata": {},
     "output_type": "execute_result"
    }
   ],
   "source": [
    "collection.update_many({}, {'$rename': {\"lat\": \"Latitude\", \"lon\": \"Longitude\"}})"
   ]
  },
  {
   "cell_type": "code",
   "execution_count": 7,
   "metadata": {
    "id": "m87V_Q7y_5HZ"
   },
   "outputs": [
    {
     "data": {
      "text/plain": [
       "{'_id': ObjectId('678ec72da60f68a3f0d7705b'),\n",
       " 'Produto': 'Modelagem preditiva',\n",
       " 'Categoria do Produto': 'livros',\n",
       " 'Preço': 92.45,\n",
       " 'Frete': 5.6096965236,\n",
       " 'Data da Compra': '01/01/2020',\n",
       " 'Vendedor': 'Thiago Silva',\n",
       " 'Local da compra': 'BA',\n",
       " 'Avaliação da compra': 1,\n",
       " 'Tipo de pagamento': 'cartao_credito',\n",
       " 'Quantidade de parcelas': 3,\n",
       " 'Latitude': -13.29,\n",
       " 'Longitude': -41.71}"
      ]
     },
     "execution_count": 7,
     "metadata": {},
     "output_type": "execute_result"
    }
   ],
   "source": [
    "collection.find_one()"
   ]
  },
  {
   "cell_type": "markdown",
   "metadata": {
    "id": "15C7obwO_5HZ"
   },
   "source": [
    "## Aplicando transformações: filtrando registros da categoria livros"
   ]
  },
  {
   "cell_type": "markdown",
   "metadata": {
    "id": "-pefRdDZ_5HZ"
   },
   "source": [
    "Agora, vamos executar uma consulta para obter apenas os dados relacionados à categoria de **livros**."
   ]
  },
  {
   "cell_type": "code",
   "execution_count": 8,
   "metadata": {
    "id": "zCBpFljw_5HZ"
   },
   "outputs": [
    {
     "data": {
      "text/plain": [
       "['brinquedos',\n",
       " 'eletrodomesticos',\n",
       " 'eletronicos',\n",
       " 'esporte e lazer',\n",
       " 'instrumentos musicais',\n",
       " 'livros',\n",
       " 'moveis',\n",
       " 'utilidades domesticas']"
      ]
     },
     "execution_count": 8,
     "metadata": {},
     "output_type": "execute_result"
    }
   ],
   "source": [
    "collection.distinct(\"Categoria do Produto\")"
   ]
  },
  {
   "cell_type": "code",
   "execution_count": 12,
   "metadata": {
    "id": "ivLQkHut_5HZ"
   },
   "outputs": [],
   "source": [
    "query = {\"Categoria do Produto\": \"livros\"}"
   ]
  },
  {
   "cell_type": "code",
   "execution_count": 16,
   "metadata": {
    "id": "avcMmnTH_5HZ"
   },
   "outputs": [],
   "source": [
    "book_list = []\n",
    "for doc in collection.find(query):\n",
    "    book_list.append(doc)"
   ]
  },
  {
   "cell_type": "markdown",
   "metadata": {
    "id": "MLEwxGZj_5Ha"
   },
   "source": [
    "**Salvando os dados em um DataFrame**"
   ]
  },
  {
   "cell_type": "code",
   "execution_count": 17,
   "metadata": {
    "id": "c-bCFqOR_5Ha"
   },
   "outputs": [
    {
     "data": {
      "text/html": [
       "<div>\n",
       "<style scoped>\n",
       "    .dataframe tbody tr th:only-of-type {\n",
       "        vertical-align: middle;\n",
       "    }\n",
       "\n",
       "    .dataframe tbody tr th {\n",
       "        vertical-align: top;\n",
       "    }\n",
       "\n",
       "    .dataframe thead th {\n",
       "        text-align: right;\n",
       "    }\n",
       "</style>\n",
       "<table border=\"1\" class=\"dataframe\">\n",
       "  <thead>\n",
       "    <tr style=\"text-align: right;\">\n",
       "      <th></th>\n",
       "      <th>_id</th>\n",
       "      <th>Produto</th>\n",
       "      <th>Categoria do Produto</th>\n",
       "      <th>Preço</th>\n",
       "      <th>Frete</th>\n",
       "      <th>Data da Compra</th>\n",
       "      <th>Vendedor</th>\n",
       "      <th>Local da compra</th>\n",
       "      <th>Avaliação da compra</th>\n",
       "      <th>Tipo de pagamento</th>\n",
       "      <th>Quantidade de parcelas</th>\n",
       "      <th>Latitude</th>\n",
       "      <th>Longitude</th>\n",
       "    </tr>\n",
       "  </thead>\n",
       "  <tbody>\n",
       "    <tr>\n",
       "      <th>0</th>\n",
       "      <td>678ec72da60f68a3f0d7705b</td>\n",
       "      <td>Modelagem preditiva</td>\n",
       "      <td>livros</td>\n",
       "      <td>92.45</td>\n",
       "      <td>5.609697</td>\n",
       "      <td>01/01/2020</td>\n",
       "      <td>Thiago Silva</td>\n",
       "      <td>BA</td>\n",
       "      <td>1</td>\n",
       "      <td>cartao_credito</td>\n",
       "      <td>3</td>\n",
       "      <td>-13.29</td>\n",
       "      <td>-41.71</td>\n",
       "    </tr>\n",
       "    <tr>\n",
       "      <th>1</th>\n",
       "      <td>678ec72da60f68a3f0d7705c</td>\n",
       "      <td>Iniciando em programação</td>\n",
       "      <td>livros</td>\n",
       "      <td>43.84</td>\n",
       "      <td>0.000000</td>\n",
       "      <td>01/01/2020</td>\n",
       "      <td>Mariana Ferreira</td>\n",
       "      <td>SP</td>\n",
       "      <td>5</td>\n",
       "      <td>cartao_credito</td>\n",
       "      <td>1</td>\n",
       "      <td>-22.19</td>\n",
       "      <td>-48.79</td>\n",
       "    </tr>\n",
       "    <tr>\n",
       "      <th>2</th>\n",
       "      <td>678ec72da60f68a3f0d7706e</td>\n",
       "      <td>Iniciando em programação</td>\n",
       "      <td>livros</td>\n",
       "      <td>63.25</td>\n",
       "      <td>3.894137</td>\n",
       "      <td>01/01/2022</td>\n",
       "      <td>Juliana Costa</td>\n",
       "      <td>RJ</td>\n",
       "      <td>5</td>\n",
       "      <td>cartao_credito</td>\n",
       "      <td>4</td>\n",
       "      <td>-22.25</td>\n",
       "      <td>-42.66</td>\n",
       "    </tr>\n",
       "    <tr>\n",
       "      <th>3</th>\n",
       "      <td>678ec72da60f68a3f0d7707c</td>\n",
       "      <td>Ciência de dados com python</td>\n",
       "      <td>livros</td>\n",
       "      <td>86.13</td>\n",
       "      <td>5.273176</td>\n",
       "      <td>01/02/2021</td>\n",
       "      <td>Camila Ribeiro</td>\n",
       "      <td>RJ</td>\n",
       "      <td>4</td>\n",
       "      <td>cartao_credito</td>\n",
       "      <td>3</td>\n",
       "      <td>-22.25</td>\n",
       "      <td>-42.66</td>\n",
       "    </tr>\n",
       "    <tr>\n",
       "      <th>4</th>\n",
       "      <td>678ec72da60f68a3f0d7707e</td>\n",
       "      <td>Ciência de dados com python</td>\n",
       "      <td>livros</td>\n",
       "      <td>72.75</td>\n",
       "      <td>1.458158</td>\n",
       "      <td>01/02/2021</td>\n",
       "      <td>Beatriz Moraes</td>\n",
       "      <td>PR</td>\n",
       "      <td>4</td>\n",
       "      <td>cartao_credito</td>\n",
       "      <td>2</td>\n",
       "      <td>-24.89</td>\n",
       "      <td>-51.55</td>\n",
       "    </tr>\n",
       "  </tbody>\n",
       "</table>\n",
       "</div>"
      ],
      "text/plain": [
       "                        _id                      Produto Categoria do Produto  \\\n",
       "0  678ec72da60f68a3f0d7705b          Modelagem preditiva               livros   \n",
       "1  678ec72da60f68a3f0d7705c     Iniciando em programação               livros   \n",
       "2  678ec72da60f68a3f0d7706e     Iniciando em programação               livros   \n",
       "3  678ec72da60f68a3f0d7707c  Ciência de dados com python               livros   \n",
       "4  678ec72da60f68a3f0d7707e  Ciência de dados com python               livros   \n",
       "\n",
       "   Preço     Frete Data da Compra          Vendedor Local da compra  \\\n",
       "0  92.45  5.609697     01/01/2020      Thiago Silva              BA   \n",
       "1  43.84  0.000000     01/01/2020  Mariana Ferreira              SP   \n",
       "2  63.25  3.894137     01/01/2022     Juliana Costa              RJ   \n",
       "3  86.13  5.273176     01/02/2021    Camila Ribeiro              RJ   \n",
       "4  72.75  1.458158     01/02/2021    Beatriz Moraes              PR   \n",
       "\n",
       "   Avaliação da compra Tipo de pagamento  Quantidade de parcelas  Latitude  \\\n",
       "0                    1    cartao_credito                       3    -13.29   \n",
       "1                    5    cartao_credito                       1    -22.19   \n",
       "2                    5    cartao_credito                       4    -22.25   \n",
       "3                    4    cartao_credito                       3    -22.25   \n",
       "4                    4    cartao_credito                       2    -24.89   \n",
       "\n",
       "   Longitude  \n",
       "0     -41.71  \n",
       "1     -48.79  \n",
       "2     -42.66  \n",
       "3     -42.66  \n",
       "4     -51.55  "
      ]
     },
     "execution_count": 17,
     "metadata": {},
     "output_type": "execute_result"
    }
   ],
   "source": [
    "import pandas as pd\n",
    "\n",
    "\n",
    "df = pd.DataFrame(book_list)\n",
    "df.head()"
   ]
  },
  {
   "cell_type": "markdown",
   "metadata": {
    "id": "UT69rpJu_5Ha"
   },
   "source": [
    "## Formatando as datas"
   ]
  },
  {
   "cell_type": "markdown",
   "metadata": {
    "id": "7RHbay4T_5Ha"
   },
   "source": [
    "Para adicionar dados do tipo DATE em um banco de dados MySQL, é necessário que a data esteja no formato **%Y-%m-%d (ano-mês-dia)**. Portanto, realizaremos uma transformação na coluna \"Data de Compra\" para ajustá-la a esse formato. Dessa forma, poderemos armazenar corretamente as datas no banco de dados MySQL, garantindo consistência e facilitando consultas baseadas em datas posteriormente."
   ]
  },
  {
   "cell_type": "code",
   "execution_count": 18,
   "metadata": {
    "id": "zhociYps_5Ha"
   },
   "outputs": [
    {
     "name": "stdout",
     "output_type": "stream",
     "text": [
      "<class 'pandas.core.frame.DataFrame'>\n",
      "RangeIndex: 742 entries, 0 to 741\n",
      "Data columns (total 13 columns):\n",
      " #   Column                  Non-Null Count  Dtype  \n",
      "---  ------                  --------------  -----  \n",
      " 0   _id                     742 non-null    object \n",
      " 1   Produto                 742 non-null    object \n",
      " 2   Categoria do Produto    742 non-null    object \n",
      " 3   Preço                   742 non-null    float64\n",
      " 4   Frete                   742 non-null    float64\n",
      " 5   Data da Compra          742 non-null    object \n",
      " 6   Vendedor                742 non-null    object \n",
      " 7   Local da compra         742 non-null    object \n",
      " 8   Avaliação da compra     742 non-null    int64  \n",
      " 9   Tipo de pagamento       742 non-null    object \n",
      " 10  Quantidade de parcelas  742 non-null    int64  \n",
      " 11  Latitude                742 non-null    float64\n",
      " 12  Longitude               742 non-null    float64\n",
      "dtypes: float64(4), int64(2), object(7)\n",
      "memory usage: 75.5+ KB\n"
     ]
    }
   ],
   "source": [
    "df.info()"
   ]
  },
  {
   "cell_type": "code",
   "execution_count": 20,
   "metadata": {
    "id": "i8nZVuVx_5Ha"
   },
   "outputs": [],
   "source": [
    "df['Data da Compra'] = pd.to_datetime(df['Data da Compra'], format=\"%d/%m/%Y\")"
   ]
  },
  {
   "cell_type": "code",
   "execution_count": 21,
   "metadata": {
    "id": "c9VFCj_O_5Hb"
   },
   "outputs": [
    {
     "name": "stdout",
     "output_type": "stream",
     "text": [
      "<class 'pandas.core.frame.DataFrame'>\n",
      "RangeIndex: 742 entries, 0 to 741\n",
      "Data columns (total 13 columns):\n",
      " #   Column                  Non-Null Count  Dtype         \n",
      "---  ------                  --------------  -----         \n",
      " 0   _id                     742 non-null    object        \n",
      " 1   Produto                 742 non-null    object        \n",
      " 2   Categoria do Produto    742 non-null    object        \n",
      " 3   Preço                   742 non-null    float64       \n",
      " 4   Frete                   742 non-null    float64       \n",
      " 5   Data da Compra          742 non-null    datetime64[ns]\n",
      " 6   Vendedor                742 non-null    object        \n",
      " 7   Local da compra         742 non-null    object        \n",
      " 8   Avaliação da compra     742 non-null    int64         \n",
      " 9   Tipo de pagamento       742 non-null    object        \n",
      " 10  Quantidade de parcelas  742 non-null    int64         \n",
      " 11  Latitude                742 non-null    float64       \n",
      " 12  Longitude               742 non-null    float64       \n",
      "dtypes: datetime64[ns](1), float64(4), int64(2), object(6)\n",
      "memory usage: 75.5+ KB\n"
     ]
    }
   ],
   "source": [
    "df.info()"
   ]
  },
  {
   "cell_type": "code",
   "execution_count": 24,
   "metadata": {},
   "outputs": [],
   "source": [
    "df['Data da Compra'] = df['Data da Compra'].dt.strftime(\"%Y-%m-%d\")"
   ]
  },
  {
   "cell_type": "code",
   "execution_count": 25,
   "metadata": {},
   "outputs": [],
   "source": [
    "df.to_csv(\"../data/books_data.csv\", index=False)"
   ]
  },
  {
   "cell_type": "markdown",
   "metadata": {
    "id": "bfyXhLiQ_5Hb"
   },
   "source": [
    "## Aplicando transformações: filtrando produtos vendidos a partir de 2021"
   ]
  },
  {
   "cell_type": "markdown",
   "metadata": {
    "id": "heR4IXBN_5Hb"
   },
   "source": [
    "Nesta etapa, faremos uma query para selecionar apenas os produtos vendidos a partir do ano de 2021. Utilizaremos um filtro na coluna de data de compra para obter os registros que atendam a essa condição."
   ]
  },
  {
   "cell_type": "code",
   "execution_count": 26,
   "metadata": {
    "id": "yNWEdnUK_5Hb"
   },
   "outputs": [
    {
     "data": {
      "text/plain": [
       "{'_id': ObjectId('678ec72da60f68a3f0d7705b'),\n",
       " 'Produto': 'Modelagem preditiva',\n",
       " 'Categoria do Produto': 'livros',\n",
       " 'Preço': 92.45,\n",
       " 'Frete': 5.6096965236,\n",
       " 'Data da Compra': '01/01/2020',\n",
       " 'Vendedor': 'Thiago Silva',\n",
       " 'Local da compra': 'BA',\n",
       " 'Avaliação da compra': 1,\n",
       " 'Tipo de pagamento': 'cartao_credito',\n",
       " 'Quantidade de parcelas': 3,\n",
       " 'Latitude': -13.29,\n",
       " 'Longitude': -41.71}"
      ]
     },
     "execution_count": 26,
     "metadata": {},
     "output_type": "execute_result"
    }
   ],
   "source": [
    "collection.find_one()"
   ]
  },
  {
   "cell_type": "code",
   "execution_count": 27,
   "metadata": {
    "id": "6jf7SU60_5Hb"
   },
   "outputs": [],
   "source": [
    "query = {\"Data da Compra\": {'$regex': '/202[1-9]'}}"
   ]
  },
  {
   "cell_type": "code",
   "execution_count": 29,
   "metadata": {
    "id": "0RHw2Qs4_5Hb"
   },
   "outputs": [],
   "source": [
    "data_from_2021_onwards = []\n",
    "for doc in collection.find(query):\n",
    "    data_from_2021_onwards.append(doc)"
   ]
  },
  {
   "cell_type": "code",
   "execution_count": null,
   "metadata": {
    "id": "5vD0IGAr_5Hb"
   },
   "outputs": [],
   "source": []
  },
  {
   "cell_type": "markdown",
   "metadata": {
    "id": "5AIuZKO9_5Hb"
   },
   "source": [
    "**Formatando as datas**"
   ]
  },
  {
   "cell_type": "code",
   "execution_count": 30,
   "metadata": {
    "id": "uyIznYsA_5Hb"
   },
   "outputs": [
    {
     "data": {
      "text/html": [
       "<div>\n",
       "<style scoped>\n",
       "    .dataframe tbody tr th:only-of-type {\n",
       "        vertical-align: middle;\n",
       "    }\n",
       "\n",
       "    .dataframe tbody tr th {\n",
       "        vertical-align: top;\n",
       "    }\n",
       "\n",
       "    .dataframe thead th {\n",
       "        text-align: right;\n",
       "    }\n",
       "</style>\n",
       "<table border=\"1\" class=\"dataframe\">\n",
       "  <thead>\n",
       "    <tr style=\"text-align: right;\">\n",
       "      <th></th>\n",
       "      <th>_id</th>\n",
       "      <th>Produto</th>\n",
       "      <th>Categoria do Produto</th>\n",
       "      <th>Preço</th>\n",
       "      <th>Frete</th>\n",
       "      <th>Data da Compra</th>\n",
       "      <th>Vendedor</th>\n",
       "      <th>Local da compra</th>\n",
       "      <th>Avaliação da compra</th>\n",
       "      <th>Tipo de pagamento</th>\n",
       "      <th>Quantidade de parcelas</th>\n",
       "      <th>Latitude</th>\n",
       "      <th>Longitude</th>\n",
       "    </tr>\n",
       "  </thead>\n",
       "  <tbody>\n",
       "    <tr>\n",
       "      <th>0</th>\n",
       "      <td>678ec72da60f68a3f0d77064</td>\n",
       "      <td>Xadrez de madeira</td>\n",
       "      <td>brinquedos</td>\n",
       "      <td>25.23</td>\n",
       "      <td>0.000000</td>\n",
       "      <td>01/01/2021</td>\n",
       "      <td>Thiago Silva</td>\n",
       "      <td>BA</td>\n",
       "      <td>5</td>\n",
       "      <td>cartao_credito</td>\n",
       "      <td>2</td>\n",
       "      <td>-13.29</td>\n",
       "      <td>-41.71</td>\n",
       "    </tr>\n",
       "    <tr>\n",
       "      <th>1</th>\n",
       "      <td>678ec72da60f68a3f0d77065</td>\n",
       "      <td>Impressora</td>\n",
       "      <td>eletronicos</td>\n",
       "      <td>322.04</td>\n",
       "      <td>14.732100</td>\n",
       "      <td>01/01/2021</td>\n",
       "      <td>João Souza</td>\n",
       "      <td>SP</td>\n",
       "      <td>3</td>\n",
       "      <td>cartao_credito</td>\n",
       "      <td>1</td>\n",
       "      <td>-22.19</td>\n",
       "      <td>-48.79</td>\n",
       "    </tr>\n",
       "    <tr>\n",
       "      <th>2</th>\n",
       "      <td>678ec72da60f68a3f0d77066</td>\n",
       "      <td>Mesa de centro</td>\n",
       "      <td>moveis</td>\n",
       "      <td>282.22</td>\n",
       "      <td>12.611805</td>\n",
       "      <td>01/01/2021</td>\n",
       "      <td>João Souza</td>\n",
       "      <td>SP</td>\n",
       "      <td>3</td>\n",
       "      <td>boleto</td>\n",
       "      <td>1</td>\n",
       "      <td>-22.19</td>\n",
       "      <td>-48.79</td>\n",
       "    </tr>\n",
       "    <tr>\n",
       "      <th>3</th>\n",
       "      <td>678ec72da60f68a3f0d77067</td>\n",
       "      <td>Tablet ABXY</td>\n",
       "      <td>eletronicos</td>\n",
       "      <td>1100.42</td>\n",
       "      <td>68.451348</td>\n",
       "      <td>01/01/2021</td>\n",
       "      <td>Beatriz Moraes</td>\n",
       "      <td>SP</td>\n",
       "      <td>1</td>\n",
       "      <td>cupom</td>\n",
       "      <td>1</td>\n",
       "      <td>-22.19</td>\n",
       "      <td>-48.79</td>\n",
       "    </tr>\n",
       "    <tr>\n",
       "      <th>4</th>\n",
       "      <td>678ec72da60f68a3f0d77068</td>\n",
       "      <td>Fogão</td>\n",
       "      <td>eletrodomesticos</td>\n",
       "      <td>791.81</td>\n",
       "      <td>42.444626</td>\n",
       "      <td>01/01/2021</td>\n",
       "      <td>Juliana Costa</td>\n",
       "      <td>SP</td>\n",
       "      <td>4</td>\n",
       "      <td>boleto</td>\n",
       "      <td>1</td>\n",
       "      <td>-22.19</td>\n",
       "      <td>-48.79</td>\n",
       "    </tr>\n",
       "  </tbody>\n",
       "</table>\n",
       "</div>"
      ],
      "text/plain": [
       "                        _id            Produto Categoria do Produto    Preço  \\\n",
       "0  678ec72da60f68a3f0d77064  Xadrez de madeira           brinquedos    25.23   \n",
       "1  678ec72da60f68a3f0d77065         Impressora          eletronicos   322.04   \n",
       "2  678ec72da60f68a3f0d77066     Mesa de centro               moveis   282.22   \n",
       "3  678ec72da60f68a3f0d77067        Tablet ABXY          eletronicos  1100.42   \n",
       "4  678ec72da60f68a3f0d77068              Fogão     eletrodomesticos   791.81   \n",
       "\n",
       "       Frete Data da Compra        Vendedor Local da compra  \\\n",
       "0   0.000000     01/01/2021    Thiago Silva              BA   \n",
       "1  14.732100     01/01/2021      João Souza              SP   \n",
       "2  12.611805     01/01/2021      João Souza              SP   \n",
       "3  68.451348     01/01/2021  Beatriz Moraes              SP   \n",
       "4  42.444626     01/01/2021   Juliana Costa              SP   \n",
       "\n",
       "   Avaliação da compra Tipo de pagamento  Quantidade de parcelas  Latitude  \\\n",
       "0                    5    cartao_credito                       2    -13.29   \n",
       "1                    3    cartao_credito                       1    -22.19   \n",
       "2                    3            boleto                       1    -22.19   \n",
       "3                    1             cupom                       1    -22.19   \n",
       "4                    4            boleto                       1    -22.19   \n",
       "\n",
       "   Longitude  \n",
       "0     -41.71  \n",
       "1     -48.79  \n",
       "2     -48.79  \n",
       "3     -48.79  \n",
       "4     -48.79  "
      ]
     },
     "execution_count": 30,
     "metadata": {},
     "output_type": "execute_result"
    }
   ],
   "source": [
    "df_products_from_2021_onwards = pd.DataFrame(data_from_2021_onwards)\n",
    "df_products_from_2021_onwards.head()"
   ]
  },
  {
   "cell_type": "code",
   "execution_count": 31,
   "metadata": {
    "id": "UzLOwbNs_5Hc"
   },
   "outputs": [
    {
     "data": {
      "text/html": [
       "<div>\n",
       "<style scoped>\n",
       "    .dataframe tbody tr th:only-of-type {\n",
       "        vertical-align: middle;\n",
       "    }\n",
       "\n",
       "    .dataframe tbody tr th {\n",
       "        vertical-align: top;\n",
       "    }\n",
       "\n",
       "    .dataframe thead th {\n",
       "        text-align: right;\n",
       "    }\n",
       "</style>\n",
       "<table border=\"1\" class=\"dataframe\">\n",
       "  <thead>\n",
       "    <tr style=\"text-align: right;\">\n",
       "      <th></th>\n",
       "      <th>_id</th>\n",
       "      <th>Produto</th>\n",
       "      <th>Categoria do Produto</th>\n",
       "      <th>Preço</th>\n",
       "      <th>Frete</th>\n",
       "      <th>Data da Compra</th>\n",
       "      <th>Vendedor</th>\n",
       "      <th>Local da compra</th>\n",
       "      <th>Avaliação da compra</th>\n",
       "      <th>Tipo de pagamento</th>\n",
       "      <th>Quantidade de parcelas</th>\n",
       "      <th>Latitude</th>\n",
       "      <th>Longitude</th>\n",
       "    </tr>\n",
       "  </thead>\n",
       "  <tbody>\n",
       "    <tr>\n",
       "      <th>0</th>\n",
       "      <td>678ec72da60f68a3f0d77064</td>\n",
       "      <td>Xadrez de madeira</td>\n",
       "      <td>brinquedos</td>\n",
       "      <td>25.23</td>\n",
       "      <td>0.000000</td>\n",
       "      <td>2021-01-01</td>\n",
       "      <td>Thiago Silva</td>\n",
       "      <td>BA</td>\n",
       "      <td>5</td>\n",
       "      <td>cartao_credito</td>\n",
       "      <td>2</td>\n",
       "      <td>-13.29</td>\n",
       "      <td>-41.71</td>\n",
       "    </tr>\n",
       "    <tr>\n",
       "      <th>1</th>\n",
       "      <td>678ec72da60f68a3f0d77065</td>\n",
       "      <td>Impressora</td>\n",
       "      <td>eletronicos</td>\n",
       "      <td>322.04</td>\n",
       "      <td>14.732100</td>\n",
       "      <td>2021-01-01</td>\n",
       "      <td>João Souza</td>\n",
       "      <td>SP</td>\n",
       "      <td>3</td>\n",
       "      <td>cartao_credito</td>\n",
       "      <td>1</td>\n",
       "      <td>-22.19</td>\n",
       "      <td>-48.79</td>\n",
       "    </tr>\n",
       "    <tr>\n",
       "      <th>2</th>\n",
       "      <td>678ec72da60f68a3f0d77066</td>\n",
       "      <td>Mesa de centro</td>\n",
       "      <td>moveis</td>\n",
       "      <td>282.22</td>\n",
       "      <td>12.611805</td>\n",
       "      <td>2021-01-01</td>\n",
       "      <td>João Souza</td>\n",
       "      <td>SP</td>\n",
       "      <td>3</td>\n",
       "      <td>boleto</td>\n",
       "      <td>1</td>\n",
       "      <td>-22.19</td>\n",
       "      <td>-48.79</td>\n",
       "    </tr>\n",
       "    <tr>\n",
       "      <th>3</th>\n",
       "      <td>678ec72da60f68a3f0d77067</td>\n",
       "      <td>Tablet ABXY</td>\n",
       "      <td>eletronicos</td>\n",
       "      <td>1100.42</td>\n",
       "      <td>68.451348</td>\n",
       "      <td>2021-01-01</td>\n",
       "      <td>Beatriz Moraes</td>\n",
       "      <td>SP</td>\n",
       "      <td>1</td>\n",
       "      <td>cupom</td>\n",
       "      <td>1</td>\n",
       "      <td>-22.19</td>\n",
       "      <td>-48.79</td>\n",
       "    </tr>\n",
       "    <tr>\n",
       "      <th>4</th>\n",
       "      <td>678ec72da60f68a3f0d77068</td>\n",
       "      <td>Fogão</td>\n",
       "      <td>eletrodomesticos</td>\n",
       "      <td>791.81</td>\n",
       "      <td>42.444626</td>\n",
       "      <td>2021-01-01</td>\n",
       "      <td>Juliana Costa</td>\n",
       "      <td>SP</td>\n",
       "      <td>4</td>\n",
       "      <td>boleto</td>\n",
       "      <td>1</td>\n",
       "      <td>-22.19</td>\n",
       "      <td>-48.79</td>\n",
       "    </tr>\n",
       "  </tbody>\n",
       "</table>\n",
       "</div>"
      ],
      "text/plain": [
       "                        _id            Produto Categoria do Produto    Preço  \\\n",
       "0  678ec72da60f68a3f0d77064  Xadrez de madeira           brinquedos    25.23   \n",
       "1  678ec72da60f68a3f0d77065         Impressora          eletronicos   322.04   \n",
       "2  678ec72da60f68a3f0d77066     Mesa de centro               moveis   282.22   \n",
       "3  678ec72da60f68a3f0d77067        Tablet ABXY          eletronicos  1100.42   \n",
       "4  678ec72da60f68a3f0d77068              Fogão     eletrodomesticos   791.81   \n",
       "\n",
       "       Frete Data da Compra        Vendedor Local da compra  \\\n",
       "0   0.000000     2021-01-01    Thiago Silva              BA   \n",
       "1  14.732100     2021-01-01      João Souza              SP   \n",
       "2  12.611805     2021-01-01      João Souza              SP   \n",
       "3  68.451348     2021-01-01  Beatriz Moraes              SP   \n",
       "4  42.444626     2021-01-01   Juliana Costa              SP   \n",
       "\n",
       "   Avaliação da compra Tipo de pagamento  Quantidade de parcelas  Latitude  \\\n",
       "0                    5    cartao_credito                       2    -13.29   \n",
       "1                    3    cartao_credito                       1    -22.19   \n",
       "2                    3            boleto                       1    -22.19   \n",
       "3                    1             cupom                       1    -22.19   \n",
       "4                    4            boleto                       1    -22.19   \n",
       "\n",
       "   Longitude  \n",
       "0     -41.71  \n",
       "1     -48.79  \n",
       "2     -48.79  \n",
       "3     -48.79  \n",
       "4     -48.79  "
      ]
     },
     "execution_count": 31,
     "metadata": {},
     "output_type": "execute_result"
    }
   ],
   "source": [
    "df_products_from_2021_onwards['Data da Compra'] = pd.to_datetime(df_products_from_2021_onwards['Data da Compra'], format=\"%d/%m/%Y\")\n",
    "df_products_from_2021_onwards['Data da Compra'] = df_products_from_2021_onwards['Data da Compra'].dt.strftime(\"%Y-%m-%d\")\n",
    "df_products_from_2021_onwards.head()"
   ]
  },
  {
   "cell_type": "code",
   "execution_count": 32,
   "metadata": {
    "id": "mCSS1qII_5Hc"
   },
   "outputs": [],
   "source": [
    "df_products_from_2021_onwards.to_csv('../data/products_from_2021_onwards.csv', index=False)"
   ]
  },
  {
   "cell_type": "code",
   "execution_count": null,
   "metadata": {
    "id": "68x24t6F_5Hc"
   },
   "outputs": [],
   "source": []
  },
  {
   "cell_type": "code",
   "execution_count": null,
   "metadata": {
    "id": "Oxe5JAH3_5Hc"
   },
   "outputs": [],
   "source": []
  },
  {
   "cell_type": "code",
   "execution_count": null,
   "metadata": {
    "id": "2adf5ceT_5Hc"
   },
   "outputs": [],
   "source": []
  }
 ],
 "metadata": {
  "colab": {
   "provenance": []
  },
  "kernelspec": {
   "display_name": ".venv",
   "language": "python",
   "name": "python3"
  },
  "language_info": {
   "codemirror_mode": {
    "name": "ipython",
    "version": 3
   },
   "file_extension": ".py",
   "mimetype": "text/x-python",
   "name": "python",
   "nbconvert_exporter": "python",
   "pygments_lexer": "ipython3",
   "version": "3.12.3"
  },
  "orig_nbformat": 4
 },
 "nbformat": 4,
 "nbformat_minor": 0
}
